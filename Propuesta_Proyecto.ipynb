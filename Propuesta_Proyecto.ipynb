{
  "nbformat": 4,
  "nbformat_minor": 0,
  "metadata": {
    "colab": {
      "provenance": [],
      "include_colab_link": true
    },
    "kernelspec": {
      "name": "python3",
      "display_name": "Python 3"
    },
    "language_info": {
      "name": "python"
    }
  },
  "cells": [
    {
      "cell_type": "markdown",
      "metadata": {
        "id": "view-in-github",
        "colab_type": "text"
      },
      "source": [
        "<a href=\"https://colab.research.google.com/github/J-gitgud/Diplomado-ciencia-de-datos---Yo/blob/main/Propuesta_Proyecto.ipynb\" target=\"_parent\"><img src=\"https://colab.research.google.com/assets/colab-badge.svg\" alt=\"Open In Colab\"/></a>"
      ]
    },
    {
      "cell_type": "markdown",
      "source": [
        "#<center> **¿Qué habilidades y herramientas son las más demandadas para los puestos de Analista de Datos y Científico(a) de Datos en Colombia?** </center>\n",
        "***Por: Valentina Cardona y Juan David Ricaurte***"
      ],
      "metadata": {
        "id": "HBbC_-c7t8H_"
      }
    },
    {
      "cell_type": "markdown",
      "source": [
        "# *Asesor principal:* pendiente"
      ],
      "metadata": {
        "id": "Im0JVIzduoxx"
      }
    },
    {
      "cell_type": "markdown",
      "source": [
        "# Introducción"
      ],
      "metadata": {
        "id": "F05BPzu1uxSA"
      }
    },
    {
      "cell_type": "markdown",
      "source": [
        "La ciencia de datos está convirtiéndose en una de las profesiones más prometedoras de hoy en día. La fiebre de los datos ha hecho que empecemos a escuchar hablar de esta disciplina por todos lados.\n",
        "\n",
        "Los científicos de datos tienen un alto nivel educativo, según [burtchworks](https://www.burtchworks.com/big-data-analyst-salary/big-data-career-tips/the-burtch-works-study/), el 94 % tiene al menos una maestría y el 43 % tiene un doctorado, y aunque hay algunas excepciones, la mayoría de los empleadores aún consideran que una sólida formación académica es un requisito para desarrollar la profundidad de conocimientos necesarios para ser un científico de datos. Así mismo, los campos de estudio más comunes de estas profesiones fueron Matemáticas y Estadística (25%), seguidos de cerca por Ingeniería (24%), Informática (22%) o Ciencias Naturales como la Física (16%). \n",
        "\n",
        "No obstante, cada empresa tendrá sus propias prioridades cuando se trata de diferentes habilidades, y esto incluye conocimientos técnicos, de la industria, educación y habilidades intangibles (como el comportamiento profesional y la comunicación). Además, la tecnología está cambiando más rápido que nunca y surgen nuevas herramientas todo el tiempo. De la misma forma, un analista o científico de datos senior es diferente a uno junior y, por tanto, sus habilidades o herramientas solicitadas en las ofertas de empleo serán distintas."
      ],
      "metadata": {
        "id": "fu5oSzSrvmLv"
      }
    },
    {
      "cell_type": "markdown",
      "source": [
        "# Descripción del problema"
      ],
      "metadata": {
        "id": "di7Usd-ru1XL"
      }
    },
    {
      "cell_type": "markdown",
      "source": [
        "Qué se necesita para ser en científico de datos o analista de datos es una de las preguntas que más se hace un principiante. Sin embargo, algunas ofertas de empleo de analistas o científicos de datos junior solicitan másters especializados, o experiencia previa. A veces solicitan una serie absurda de conocimientos técnicos, o conocimiento tan técnico que hace dudar de si necesitan más un data engineer que un data scientist. Esto último desorienta a las personas que se están introduciendo o quieren introducirse a este mundo. \n",
        "\n",
        "Por tanto, en el presente proyecto se pretente conocer qué habilidades técnicas y no técnicas se solicitan más para los puestos de analistas de datos y científicos de datos, dando lugar a un análisis crítico sobre las oportunidades laborales y las posibilidades que existen para formarse en el contexto colombiano."
      ],
      "metadata": {
        "id": "vpprimyZ3_da"
      }
    },
    {
      "cell_type": "markdown",
      "source": [
        "# Fuentes de datos"
      ],
      "metadata": {
        "id": "S-0P8kH5u4xH"
      }
    },
    {
      "cell_type": "markdown",
      "source": [
        "Datos públicos de perfiles de empleo de [LinkedIn](https://www.linkedin.com/) o [la bolsa unica de empleo](https://www.buscadordeempleo.gov.co/), ubicados en territorio Colombiano, para \"Analista de Datos\" y \"Científico de Datos\" con nivel de experiencia bajo."
      ],
      "metadata": {
        "id": "5sMa9E_6yfBC"
      }
    },
    {
      "cell_type": "markdown",
      "source": [
        "# Procesamiento ETL"
      ],
      "metadata": {
        "id": "DzexDl8ru7zZ"
      }
    },
    {
      "cell_type": "markdown",
      "source": [
        "Recuerden que ETL significa Extracción, Transformación y Carga de datos). Describen como se hará todo el proeprocesmaiento de información. "
      ],
      "metadata": {
        "id": "Sj7Eufv-u_LW"
      }
    },
    {
      "cell_type": "markdown",
      "source": [
        "- Creación de perfil falso ya que, pese a que es [legal](https://www.forbes.com/sites/zacharysmith/2022/04/18/scraping-data-from-linkedin-profiles-is-legal-appeals-court-rules/?sh=45913a722a9c), algunos sitios suelen banear a bots de web scraping.\n",
        "- Ecuaciones de búsqueda que delimiten los empleos.\n",
        "- Utilizar la librería Selenium en Python para extraer la siguiente información de los perfiles:\n",
        "  *   Habilidades requeridas.\n",
        "  *   Nivel de experiencia.\n",
        "  *   Área o mercado de trabajo.\n",
        "  *   Localidad del empleo.\n",
        "- Almacenamiento de los datos en SQL.\n",
        "- Limpieza y minería de datos en SQL."
      ],
      "metadata": {
        "id": "BIP44OlBAHwf"
      }
    },
    {
      "cell_type": "markdown",
      "source": [
        "# Exploración de los datos"
      ],
      "metadata": {
        "id": "5Cj-oiSivA5b"
      }
    },
    {
      "cell_type": "markdown",
      "source": [
        "Indicar que técnicas usaran inicialmente para describir y entender sus datos:\n",
        " Muestras de los datos\n",
        "Estadisticas y grafica univariadas\n",
        "Técnicas factoriales: ACP, ..."
      ],
      "metadata": {
        "id": "ane0GA_XvDFh"
      }
    },
    {
      "cell_type": "markdown",
      "source": [
        "\n",
        "\n",
        "1.   Web scraping de datos de paginas web de bolsas de empleo\n",
        "2.   Organizacion, estandarizacion y limpieza de tablas de datos utilizando SQL \n",
        "3.   Estadisticos descriptivos para caracterizar datos\n",
        "4.   ACP para agrupacion de datos \n"
      ],
      "metadata": {
        "id": "HBcLaLqB_WZH"
      }
    },
    {
      "cell_type": "markdown",
      "source": [
        "# Técnicas de modelación propuestas"
      ],
      "metadata": {
        "id": "NmTotcexvFqK"
      }
    },
    {
      "cell_type": "markdown",
      "source": [
        "Se espera que hayan sido discutidas con algún asesor (profesor) previamente."
      ],
      "metadata": {
        "id": "ZAOpJRvbvIF9"
      }
    },
    {
      "cell_type": "markdown",
      "source": [],
      "metadata": {
        "id": "sjMRbT6O_XZ6"
      }
    },
    {
      "cell_type": "markdown",
      "source": [
        "# Conocimientos requeridos para el desarrollo del proyecto"
      ],
      "metadata": {
        "id": "Z4H0PH0TvJ30"
      }
    },
    {
      "cell_type": "markdown",
      "source": [
        "- Python: nivel medio.\n",
        "- Librería Selenium.\n",
        "- SQL.\n",
        "- Modelos supervisados: explicativos o predictivos."
      ],
      "metadata": {
        "id": "qWIuF6bMvMpw"
      }
    },
    {
      "cell_type": "markdown",
      "source": [
        "# Resultados esperados"
      ],
      "metadata": {
        "id": "XXrTK5kOvOwM"
      }
    },
    {
      "cell_type": "markdown",
      "source": [
        "Visualización sobre el perfil pedido por las bolsas de empleo en Colombia para aplicar a un puesto de analista o cientifico(a) de datos, agrupaciones por peso de estas variables."
      ],
      "metadata": {
        "id": "IJLKT9a1-aBp"
      }
    },
    {
      "cell_type": "markdown",
      "source": [
        "# <center> **Tiempo de desarrollo esperado:** 3 semanas </center>"
      ],
      "metadata": {
        "id": "Y1zMjTL3vRm7"
      }
    }
  ]
}