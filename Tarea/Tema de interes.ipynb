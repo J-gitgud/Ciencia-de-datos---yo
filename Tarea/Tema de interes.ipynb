{
 "cells": [
  {
   "cell_type": "markdown",
   "id": "a82e9fd3-0498-430d-ac2f-69e1d5ea058a",
   "metadata": {},
   "source": [
    "<h1 style=\"text-align: center;\">Mineria de datos</h1>\n",
    "\n",
    "<div style=\"text-align: center;\">\n",
    "<img src=\"img 1.jpg\"  width=\"300\" height=\"300\"/>\n",
    "</div>\n"
   ]
  },
  {
   "cell_type": "markdown",
   "id": "d568a21e-c82f-44af-b4ad-d79c2d4248dc",
   "metadata": {},
   "source": [
    "## Autor \n",
    "Juan David Ricaurte\n",
    "\n",
    "Estudiante de Psicologia de la Universidad Nacional de Colombia\n",
    "\n",
    "<div style=\"text-align: center;\">\n",
    "<img src=\"Captura.PNG\"  width=\"200\" height=\"200\"/>\n",
    "    \n",
    "<h3>Mi perfil</h3>\n",
    "\n",
    "Como estudiante de psicologia mis intereses siempre han estado enfocados a la investigacion. El generar nuevo conocimiento sobre las personas siempre ha llamado algo en mi, y parte de generar este conocimiento es saber como obtenerlo, de ahi viene mi interes de exponerte que es la mineria de datos, y como nosotros los psicologos la aprovechamos para obtener informacion valiosa de como se comportan las personas."
   ]
  },
  {
   "cell_type": "markdown",
   "id": "d88db99d-4cbe-4048-baba-4ddda4b90888",
   "metadata": {},
   "source": [
    "## Contenidos\n",
    "\n",
    "1. [La mineria de datos](#La-mineria-de-datos) \n",
    "1. [La regresion lineal en la mineria de datos](#La-regresion-lineal-en-la-mineria-de-datos)\n",
    "1. [Un ejemplo](#Un-ejemplo)\n",
    "1. [Referencias](#Referencias)"
   ]
  },
  {
   "cell_type": "markdown",
   "id": "177f200d-6351-4ffe-8029-4fc04714e94d",
   "metadata": {},
   "source": [
    "## La mineria de datos\n",
    "Este es un campo de la estadística y las ciencias de la computación referido al proceso que intenta descubrir\n",
    "patrones en grandes volúmenes de conjuntos de datos. \n",
    "Utiliza los métodos de la inteligencia artificial, aprendizaje automático, estadística y sistemas de bases de datos. \n",
    "El objetivo general del proceso de minería de datos consiste en extraer información de un conjunto de datos y transformarla en una estructura comprensible para su uso posterior.\n",
    "\n",
    "<div style=\"text-align: center;\">\n",
    "<img src=\"mineo.png\"  width=\"400\" height=\"400\"/>"
   ]
  },
  {
   "cell_type": "markdown",
   "id": "fa5468d3-d99a-4f54-adeb-b7a88c01037f",
   "metadata": {},
   "source": [
    "## La regresion lineal simple en la mineria de datos.\n",
    "\n",
    "Esta es una de las formas más utilizadas para formar relaciones entre dos variables. Esta nos permite construir un modelo que prediga como se comportaran nuestros datos, haciendo sentido a su importancia en el proceso de mineria de datos.\n",
    "\n",
    "Esta se construye desde un modelo lineal expresado como \n",
    "\n",
    "$$ Y = \\beta_0 + \\beta_1 X_1 + ... + \\beta_m X_m + e $$\n",
    "\n",
    "$\\beta$ siendo los distintos parametros para el modelo y\n",
    "$X$ siendo las variables explicativas del mismo\n",
    "\n",
    "Asi obtendriamos una ecuacion de la recta para construir nuestro valores predictivos con una medida de error. "
   ]
  },
  {
   "cell_type": "markdown",
   "id": "39f9003e-ac6a-42da-9d89-6f48b65b61d6",
   "metadata": {},
   "source": [
    "## Un ejemplo\n",
    "\n",
    "El proceso de aprendizaje que realiza la inteligencia artificial consistirá en analizar los parámetros w y b. Así, se obtienen los mejores valores para ellos: \n",
    "\n",
    "$$ w= 0,0918 y b= 1,2859 $$\n",
    "\n",
    "El resultado sería el siguiente: \n",
    "\n",
    "$$ y=0,0918x+1,2859 $$\n",
    "\n",
    "Este modelo puede destinarse a estimar cuáles van a ser los resultados para otros valores x. Si se quisiera conocer el de x= 5, se utilizaría el anterior modelo y el resultado que se obtendría es 1,7449. \n",
    "\n",
    "Este valor se alcanzaría de la siguiente manera: \n",
    "\n",
    "$$ y=0.0918⋅5+1.2859=1.7449 $$\n",
    "\n",
    "Asi, de forma grafica se representaria como:\n",
    "\n",
    "<div style=\"text-align: center;\">\n",
    "<img src=\"regresion.png\"  width=\"400\" height=\"400\"/>\n",
    "\n",
    "<font size=\"1\"> Tomado de https://blog.structuralia.com/ejemplos-de-regresion-lineal</font>"
   ]
  },
  {
   "cell_type": "markdown",
   "id": "be613698-9079-4b16-b84b-f66650ab77e1",
   "metadata": {},
   "source": [
    "## Referencias \n",
    "[Fórmulas, Probabilidad y Estadística. Cs. Básicas. U.D.B. Matemática. Universidad Tecnológica Nacional, Facultad Regional Buenos Aires. Editorial CEIT-FRBA. (Código BM2BT2)](\"chrome-extension://efaidnbmnnnibpcajpcglclefindmkaj/http://www1.frm.utn.edu.ar/estadistica/documentos/Cap09Formulas.pdf\")\n",
    "\n",
    "[Introduction to linear regression](\"https://web.archive.org/web/20080222195200/http://www.curvefit.com/linear_regression.htm\")\n",
    "\n",
    "[Ejemplos de regresion lineal](\"https://blog.structuralia.com/ejemplos-de-regresion-lineal\")"
   ]
  }
 ],
 "metadata": {
  "kernelspec": {
   "display_name": "Python 3 (ipykernel)",
   "language": "python",
   "name": "python3"
  },
  "language_info": {
   "codemirror_mode": {
    "name": "ipython",
    "version": 3
   },
   "file_extension": ".py",
   "mimetype": "text/x-python",
   "name": "python",
   "nbconvert_exporter": "python",
   "pygments_lexer": "ipython3",
   "version": "3.10.6"
  }
 },
 "nbformat": 4,
 "nbformat_minor": 5
}
